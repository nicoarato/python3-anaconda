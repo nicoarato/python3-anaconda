{
 "cells": [
  {
   "cell_type": "code",
   "execution_count": 1,
   "metadata": {},
   "outputs": [],
   "source": [
    "#Dataframe"
   ]
  },
  {
   "cell_type": "code",
   "execution_count": 2,
   "metadata": {},
   "outputs": [],
   "source": [
    "import pandas as pd"
   ]
  },
  {
   "cell_type": "code",
   "execution_count": 18,
   "metadata": {},
   "outputs": [
    {
     "data": {
      "text/plain": [
       "True"
      ]
     },
     "execution_count": 18,
     "metadata": {},
     "output_type": "execute_result"
    }
   ],
   "source": [
    "#recuperamos los datos de una web\n",
    "import webbrowser as wb\n",
    "website = 'https://es.wikipedia.org/wiki/Anexo:Campeones_de_la_NBA'\n",
    "wb.open(website) #Abre en el navegador la pagina web"
   ]
  },
  {
   "cell_type": "code",
   "execution_count": 19,
   "metadata": {},
   "outputs": [
    {
     "data": {
      "text/html": [
       "<div>\n",
       "<style scoped>\n",
       "    .dataframe tbody tr th:only-of-type {\n",
       "        vertical-align: middle;\n",
       "    }\n",
       "\n",
       "    .dataframe tbody tr th {\n",
       "        vertical-align: top;\n",
       "    }\n",
       "\n",
       "    .dataframe thead th {\n",
       "        text-align: right;\n",
       "    }\n",
       "</style>\n",
       "<table border=\"1\" class=\"dataframe\">\n",
       "  <thead>\n",
       "    <tr style=\"text-align: right;\">\n",
       "      <th></th>\n",
       "      <th>Año</th>\n",
       "      <th>Campeón</th>\n",
       "      <th>del</th>\n",
       "      <th>Oeste</th>\n",
       "      <th>Resultado</th>\n",
       "      <th>Campeón.1</th>\n",
       "      <th>del.1</th>\n",
       "      <th>Este</th>\n",
       "      <th>Ref.</th>\n",
       "    </tr>\n",
       "  </thead>\n",
       "  <tbody>\n",
       "    <tr>\n",
       "      <th>0</th>\n",
       "      <td>1947</td>\n",
       "      <td>Philadelphia</td>\n",
       "      <td>Warriors</td>\n",
       "      <td>4–1</td>\n",
       "      <td>Chicago</td>\n",
       "      <td>Stags</td>\n",
       "      <td>15​</td>\n",
       "      <td>None</td>\n",
       "      <td>NaN</td>\n",
       "    </tr>\n",
       "    <tr>\n",
       "      <th>1</th>\n",
       "      <td>1948</td>\n",
       "      <td>Baltimore</td>\n",
       "      <td>Bulletsn.</td>\n",
       "      <td>1​</td>\n",
       "      <td>4–2</td>\n",
       "      <td>Philadelphia</td>\n",
       "      <td>Warriors</td>\n",
       "      <td>16​</td>\n",
       "      <td>NaN</td>\n",
       "    </tr>\n",
       "    <tr>\n",
       "      <th>2</th>\n",
       "      <td>1949</td>\n",
       "      <td>Minneapolis</td>\n",
       "      <td>Lakers</td>\n",
       "      <td>4–2</td>\n",
       "      <td>Washington</td>\n",
       "      <td>Capitols</td>\n",
       "      <td>17​</td>\n",
       "      <td>None</td>\n",
       "      <td>NaN</td>\n",
       "    </tr>\n",
       "  </tbody>\n",
       "</table>\n",
       "</div>"
      ],
      "text/plain": [
       "    Año       Campeón        del Oeste   Resultado     Campeón.1     del.1  \\\n",
       "0  1947  Philadelphia   Warriors   4–1     Chicago         Stags       15​   \n",
       "1  1948     Baltimore  Bulletsn.    1​         4–2  Philadelphia  Warriors   \n",
       "2  1949   Minneapolis     Lakers   4–2  Washington      Capitols       17​   \n",
       "\n",
       "   Este  Ref.  \n",
       "0  None   NaN  \n",
       "1   16​   NaN  \n",
       "2  None   NaN  "
      ]
     },
     "execution_count": 19,
     "metadata": {},
     "output_type": "execute_result"
    }
   ],
   "source": [
    "#esta funcion trae lo que copiamos con el ctrl+c de una pagina y la muestra\n",
    "dataframe_nba = pd.read_clipboard()\n",
    "dataframe_nba"
   ]
  },
  {
   "cell_type": "code",
   "execution_count": 20,
   "metadata": {},
   "outputs": [
    {
     "data": {
      "text/plain": [
       "Index(['Año', 'Campeón', 'del', 'Oeste', 'Resultado', 'Campeón.1', 'del.1',\n",
       "       'Este', 'Ref.'],\n",
       "      dtype='object')"
      ]
     },
     "execution_count": 20,
     "metadata": {},
     "output_type": "execute_result"
    }
   ],
   "source": [
    "dataframe_nba.columns"
   ]
  },
  {
   "cell_type": "code",
   "execution_count": null,
   "metadata": {},
   "outputs": [],
   "source": [
    "#devuelve dataframe indexado"
   ]
  },
  {
   "cell_type": "code",
   "execution_count": 21,
   "metadata": {},
   "outputs": [
    {
     "data": {
      "text/plain": [
       "0    1947\n",
       "1    1948\n",
       "2    1949\n",
       "Name: Año, dtype: int64"
      ]
     },
     "execution_count": 21,
     "metadata": {},
     "output_type": "execute_result"
    }
   ],
   "source": [
    "dataframe_nba['Año']"
   ]
  },
  {
   "cell_type": "code",
   "execution_count": 22,
   "metadata": {},
   "outputs": [
    {
     "data": {
      "text/plain": [
       "0       Chicago\n",
       "1           4–2\n",
       "2    Washington\n",
       "Name: Resultado, dtype: object"
      ]
     },
     "execution_count": 22,
     "metadata": {},
     "output_type": "execute_result"
    }
   ],
   "source": [
    "dataframe_nba['Resultado']"
   ]
  },
  {
   "cell_type": "code",
   "execution_count": 23,
   "metadata": {},
   "outputs": [
    {
     "data": {
      "text/plain": [
       "Año                 1949\n",
       "Campeón      Minneapolis\n",
       "del               Lakers\n",
       "Oeste                4–2\n",
       "Resultado     Washington\n",
       "Campeón.1       Capitols\n",
       "del.1                17​\n",
       "Este                None\n",
       "Ref.                 NaN\n",
       "Name: 2, dtype: object"
      ]
     },
     "execution_count": 23,
     "metadata": {},
     "output_type": "execute_result"
    }
   ],
   "source": [
    "dataframe_nba.loc[2]"
   ]
  },
  {
   "cell_type": "code",
   "execution_count": 24,
   "metadata": {},
   "outputs": [
    {
     "data": {
      "text/html": [
       "<div>\n",
       "<style scoped>\n",
       "    .dataframe tbody tr th:only-of-type {\n",
       "        vertical-align: middle;\n",
       "    }\n",
       "\n",
       "    .dataframe tbody tr th {\n",
       "        vertical-align: top;\n",
       "    }\n",
       "\n",
       "    .dataframe thead th {\n",
       "        text-align: right;\n",
       "    }\n",
       "</style>\n",
       "<table border=\"1\" class=\"dataframe\">\n",
       "  <thead>\n",
       "    <tr style=\"text-align: right;\">\n",
       "      <th></th>\n",
       "      <th>Año</th>\n",
       "      <th>Campeón</th>\n",
       "      <th>del</th>\n",
       "      <th>Oeste</th>\n",
       "      <th>Resultado</th>\n",
       "      <th>Campeón.1</th>\n",
       "      <th>del.1</th>\n",
       "      <th>Este</th>\n",
       "      <th>Ref.</th>\n",
       "    </tr>\n",
       "  </thead>\n",
       "  <tbody>\n",
       "    <tr>\n",
       "      <th>0</th>\n",
       "      <td>1947</td>\n",
       "      <td>Philadelphia</td>\n",
       "      <td>Warriors</td>\n",
       "      <td>4–1</td>\n",
       "      <td>Chicago</td>\n",
       "      <td>Stags</td>\n",
       "      <td>15​</td>\n",
       "      <td>None</td>\n",
       "      <td>NaN</td>\n",
       "    </tr>\n",
       "    <tr>\n",
       "      <th>1</th>\n",
       "      <td>1948</td>\n",
       "      <td>Baltimore</td>\n",
       "      <td>Bulletsn.</td>\n",
       "      <td>1​</td>\n",
       "      <td>4–2</td>\n",
       "      <td>Philadelphia</td>\n",
       "      <td>Warriors</td>\n",
       "      <td>16​</td>\n",
       "      <td>NaN</td>\n",
       "    </tr>\n",
       "    <tr>\n",
       "      <th>2</th>\n",
       "      <td>1949</td>\n",
       "      <td>Minneapolis</td>\n",
       "      <td>Lakers</td>\n",
       "      <td>4–2</td>\n",
       "      <td>Washington</td>\n",
       "      <td>Capitols</td>\n",
       "      <td>17​</td>\n",
       "      <td>None</td>\n",
       "      <td>NaN</td>\n",
       "    </tr>\n",
       "  </tbody>\n",
       "</table>\n",
       "</div>"
      ],
      "text/plain": [
       "    Año       Campeón        del Oeste   Resultado     Campeón.1     del.1  \\\n",
       "0  1947  Philadelphia   Warriors   4–1     Chicago         Stags       15​   \n",
       "1  1948     Baltimore  Bulletsn.    1​         4–2  Philadelphia  Warriors   \n",
       "2  1949   Minneapolis     Lakers   4–2  Washington      Capitols       17​   \n",
       "\n",
       "   Este  Ref.  \n",
       "0  None   NaN  \n",
       "1   16​   NaN  \n",
       "2  None   NaN  "
      ]
     },
     "execution_count": 24,
     "metadata": {},
     "output_type": "execute_result"
    }
   ],
   "source": [
    "#para mostrar los primeros 5\n",
    "dataframe_nba.head()"
   ]
  },
  {
   "cell_type": "code",
   "execution_count": 26,
   "metadata": {},
   "outputs": [
    {
     "data": {
      "text/html": [
       "<div>\n",
       "<style scoped>\n",
       "    .dataframe tbody tr th:only-of-type {\n",
       "        vertical-align: middle;\n",
       "    }\n",
       "\n",
       "    .dataframe tbody tr th {\n",
       "        vertical-align: top;\n",
       "    }\n",
       "\n",
       "    .dataframe thead th {\n",
       "        text-align: right;\n",
       "    }\n",
       "</style>\n",
       "<table border=\"1\" class=\"dataframe\">\n",
       "  <thead>\n",
       "    <tr style=\"text-align: right;\">\n",
       "      <th></th>\n",
       "      <th>Año</th>\n",
       "      <th>Campeón</th>\n",
       "      <th>del</th>\n",
       "      <th>Oeste</th>\n",
       "      <th>Resultado</th>\n",
       "      <th>Campeón.1</th>\n",
       "      <th>del.1</th>\n",
       "      <th>Este</th>\n",
       "      <th>Ref.</th>\n",
       "    </tr>\n",
       "  </thead>\n",
       "  <tbody>\n",
       "    <tr>\n",
       "      <th>1</th>\n",
       "      <td>1948</td>\n",
       "      <td>Baltimore</td>\n",
       "      <td>Bulletsn.</td>\n",
       "      <td>1​</td>\n",
       "      <td>4–2</td>\n",
       "      <td>Philadelphia</td>\n",
       "      <td>Warriors</td>\n",
       "      <td>16​</td>\n",
       "      <td>NaN</td>\n",
       "    </tr>\n",
       "    <tr>\n",
       "      <th>2</th>\n",
       "      <td>1949</td>\n",
       "      <td>Minneapolis</td>\n",
       "      <td>Lakers</td>\n",
       "      <td>4–2</td>\n",
       "      <td>Washington</td>\n",
       "      <td>Capitols</td>\n",
       "      <td>17​</td>\n",
       "      <td>None</td>\n",
       "      <td>NaN</td>\n",
       "    </tr>\n",
       "  </tbody>\n",
       "</table>\n",
       "</div>"
      ],
      "text/plain": [
       "    Año      Campeón        del Oeste   Resultado     Campeón.1     del.1  \\\n",
       "1  1948    Baltimore  Bulletsn.    1​         4–2  Philadelphia  Warriors   \n",
       "2  1949  Minneapolis     Lakers   4–2  Washington      Capitols       17​   \n",
       "\n",
       "   Este  Ref.  \n",
       "1   16​   NaN  \n",
       "2  None   NaN  "
      ]
     },
     "execution_count": 26,
     "metadata": {},
     "output_type": "execute_result"
    }
   ],
   "source": [
    "#para mostrar los ultimos 5\n",
    "dataframe_nba.tail(2)"
   ]
  },
  {
   "cell_type": "code",
   "execution_count": 27,
   "metadata": {},
   "outputs": [
    {
     "data": {
      "text/plain": [
       "{'Asignaturas': ['matematicas', 'historia', 'fisica'], 'Notas': [8, 7, 9]}"
      ]
     },
     "execution_count": 27,
     "metadata": {},
     "output_type": "execute_result"
    }
   ],
   "source": [
    "lista_asignaturas = [ 'matematicas','historia','fisica']\n",
    "lista_notas = [8,7,9]\n",
    "diccionario = {'Asignaturas':lista_asignaturas, 'Notas':lista_notas}\n",
    "diccionario"
   ]
  },
  {
   "cell_type": "code",
   "execution_count": 28,
   "metadata": {},
   "outputs": [
    {
     "data": {
      "text/html": [
       "<div>\n",
       "<style scoped>\n",
       "    .dataframe tbody tr th:only-of-type {\n",
       "        vertical-align: middle;\n",
       "    }\n",
       "\n",
       "    .dataframe tbody tr th {\n",
       "        vertical-align: top;\n",
       "    }\n",
       "\n",
       "    .dataframe thead th {\n",
       "        text-align: right;\n",
       "    }\n",
       "</style>\n",
       "<table border=\"1\" class=\"dataframe\">\n",
       "  <thead>\n",
       "    <tr style=\"text-align: right;\">\n",
       "      <th></th>\n",
       "      <th>Asignaturas</th>\n",
       "      <th>Notas</th>\n",
       "    </tr>\n",
       "  </thead>\n",
       "  <tbody>\n",
       "    <tr>\n",
       "      <th>0</th>\n",
       "      <td>matematicas</td>\n",
       "      <td>8</td>\n",
       "    </tr>\n",
       "    <tr>\n",
       "      <th>1</th>\n",
       "      <td>historia</td>\n",
       "      <td>7</td>\n",
       "    </tr>\n",
       "    <tr>\n",
       "      <th>2</th>\n",
       "      <td>fisica</td>\n",
       "      <td>9</td>\n",
       "    </tr>\n",
       "  </tbody>\n",
       "</table>\n",
       "</div>"
      ],
      "text/plain": [
       "   Asignaturas  Notas\n",
       "0  matematicas      8\n",
       "1     historia      7\n",
       "2       fisica      9"
      ]
     },
     "execution_count": 28,
     "metadata": {},
     "output_type": "execute_result"
    }
   ],
   "source": [
    "#creamos el dataframe\n",
    "dataframe_notas = pd.DataFrame(diccionario)\n",
    "dataframe_notas"
   ]
  },
  {
   "cell_type": "code",
   "execution_count": null,
   "metadata": {},
   "outputs": [],
   "source": []
  }
 ],
 "metadata": {
  "kernelspec": {
   "display_name": "Python 3",
   "language": "python",
   "name": "python3"
  },
  "language_info": {
   "codemirror_mode": {
    "name": "ipython",
    "version": 3
   },
   "file_extension": ".py",
   "mimetype": "text/x-python",
   "name": "python",
   "nbconvert_exporter": "python",
   "pygments_lexer": "ipython3",
   "version": "3.7.1"
  }
 },
 "nbformat": 4,
 "nbformat_minor": 2
}
