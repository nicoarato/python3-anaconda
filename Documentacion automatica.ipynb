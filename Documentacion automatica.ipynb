{
 "cells": [
  {
   "cell_type": "code",
   "execution_count": 1,
   "metadata": {},
   "outputs": [],
   "source": [
    "#Docstrings - cadenas para documentacion"
   ]
  },
  {
   "cell_type": "code",
   "execution_count": 2,
   "metadata": {},
   "outputs": [],
   "source": [
    "def saludar(nombre):\n",
    "    \"\"\"\n",
    "    Esto sera un comentario de la funcion\n",
    "    Esta funcion recibe nombre y saluda a la persona\n",
    "    \"\"\"\n",
    "    print(\"Buenos dias \" + nombre)"
   ]
  },
  {
   "cell_type": "code",
   "execution_count": 3,
   "metadata": {},
   "outputs": [
    {
     "name": "stdout",
     "output_type": "stream",
     "text": [
      "Buenos dias Antonio\n"
     ]
    }
   ],
   "source": [
    "saludar(\"Antonio\")"
   ]
  },
  {
   "cell_type": "code",
   "execution_count": 4,
   "metadata": {},
   "outputs": [
    {
     "name": "stdout",
     "output_type": "stream",
     "text": [
      "Help on function saludar in module __main__:\n",
      "\n",
      "saludar(nombre)\n",
      "    Esto sera un comentario de la funcion\n",
      "    Esta funcion recibe nombre y saluda a la persona\n",
      "\n"
     ]
    }
   ],
   "source": [
    "help(saludar)"
   ]
  },
  {
   "cell_type": "code",
   "execution_count": 5,
   "metadata": {},
   "outputs": [],
   "source": [
    "class Saludos:\n",
    "    \"\"\"\n",
    "    Esta es una clase para saludadores,\n",
    "    Tiene clases de saludos\n",
    "    BuenDia y Adios\n",
    "    Ambas reciben un nombre\n",
    "    \"\"\"\n",
    "    def BuenDia(self,nombre):\n",
    "        \"\"\"Esta funcion saluda con buenos dias a una persona\"\"\"\n",
    "        print(f\"Buenoas dias {nombre}\")\n",
    "    \n",
    "    def Adios(self,nombre):\n",
    "        \"\"\"Esta funcion se despide de una persona\"\"\"\n",
    "        print(f\"Adios {nombre}\")\n",
    "        \n"
   ]
  },
  {
   "cell_type": "code",
   "execution_count": 7,
   "metadata": {},
   "outputs": [
    {
     "name": "stdout",
     "output_type": "stream",
     "text": [
      "Buenoas dias Roberto\n",
      "Adios Roberto\n"
     ]
    }
   ],
   "source": [
    "saludo = Saludos()\n",
    "saludo.BuenDia(\"Roberto\")\n",
    "saludo.Adios(\"Roberto\")"
   ]
  },
  {
   "cell_type": "code",
   "execution_count": null,
   "metadata": {},
   "outputs": [],
   "source": []
  }
 ],
 "metadata": {
  "kernelspec": {
   "display_name": "Python 3",
   "language": "python",
   "name": "python3"
  },
  "language_info": {
   "codemirror_mode": {
    "name": "ipython",
    "version": 3
   },
   "file_extension": ".py",
   "mimetype": "text/x-python",
   "name": "python",
   "nbconvert_exporter": "python",
   "pygments_lexer": "ipython3",
   "version": "3.7.1"
  }
 },
 "nbformat": 4,
 "nbformat_minor": 2
}
