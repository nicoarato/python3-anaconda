{
 "cells": [
  {
   "cell_type": "code",
   "execution_count": 6,
   "metadata": {},
   "outputs": [],
   "source": [
    "def sumar(n1,n2):\n",
    "    \"\"\"\n",
    "    Esta es la documentacion de la funcion sumar:\n",
    "    Recibe 2 numeros y retorna la suma\n",
    "    \n",
    "    Ahora escribo los tests\n",
    "    \n",
    "    >>> sumar(4,3)\n",
    "    7\n",
    "    \n",
    "    >>> sumar(3,5)\n",
    "    8\n",
    "    \n",
    "    \"\"\"\n",
    "    return n1 + n2\n",
    "\n"
   ]
  },
  {
   "cell_type": "code",
   "execution_count": 7,
   "metadata": {},
   "outputs": [
    {
     "name": "stdout",
     "output_type": "stream",
     "text": [
      "Trying:\n",
      "    sumar(4,3)\n",
      "Expecting:\n",
      "    7\n",
      "ok\n",
      "Trying:\n",
      "    sumar(3,5)\n",
      "Expecting:\n",
      "    8\n",
      "ok\n",
      "1 items had no tests:\n",
      "    __main__\n",
      "1 items passed all tests:\n",
      "   2 tests in __main__.sumar\n",
      "2 tests in 2 items.\n",
      "2 passed and 0 failed.\n",
      "Test passed.\n"
     ]
    },
    {
     "data": {
      "text/plain": [
       "TestResults(failed=0, attempted=2)"
      ]
     },
     "execution_count": 7,
     "metadata": {},
     "output_type": "execute_result"
    }
   ],
   "source": [
    "import doctest\n",
    "doctest.testmod(verbose=True)"
   ]
  },
  {
   "cell_type": "code",
   "execution_count": null,
   "metadata": {},
   "outputs": [],
   "source": []
  }
 ],
 "metadata": {
  "kernelspec": {
   "display_name": "Python 3",
   "language": "python",
   "name": "python3"
  },
  "language_info": {
   "codemirror_mode": {
    "name": "ipython",
    "version": 3
   },
   "file_extension": ".py",
   "mimetype": "text/x-python",
   "name": "python",
   "nbconvert_exporter": "python",
   "pygments_lexer": "ipython3",
   "version": "3.7.1"
  }
 },
 "nbformat": 4,
 "nbformat_minor": 2
}
