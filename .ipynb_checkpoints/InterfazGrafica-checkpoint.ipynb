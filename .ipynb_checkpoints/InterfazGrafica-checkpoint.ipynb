{
 "cells": [
  {
   "cell_type": "code",
   "execution_count": 3,
   "metadata": {},
   "outputs": [],
   "source": [
    "#tkinter Interfaz grafica\n",
    "#Elemento raiz Tk"
   ]
  },
  {
   "cell_type": "code",
   "execution_count": 2,
   "metadata": {},
   "outputs": [],
   "source": [
    "import tkinter\n",
    "\n",
    "raiz = tkinter.Tk()\n",
    "raiz.title(\"MiPrograma\")\n",
    "\n",
    "raiz.mainloop()"
   ]
  },
  {
   "cell_type": "code",
   "execution_count": 4,
   "metadata": {},
   "outputs": [],
   "source": [
    "#componente frame"
   ]
  },
  {
   "cell_type": "code",
   "execution_count": 5,
   "metadata": {},
   "outputs": [],
   "source": [
    "import tkinter\n",
    "\n",
    "raiz = tkinter.Tk()\n",
    "raiz.title(\"MiPrograma\")\n",
    "\n",
    "#creamos componentes\n",
    "frame = tkinter.Frame(raiz)\n",
    "frame.config(bg=\"blue\", width=\"400\", height=\"300\")\n",
    "frame.pack()\n",
    "\n",
    "\n",
    "raiz.mainloop()"
   ]
  },
  {
   "cell_type": "code",
   "execution_count": 6,
   "metadata": {},
   "outputs": [],
   "source": [
    "#componente label"
   ]
  },
  {
   "cell_type": "code",
   "execution_count": 10,
   "metadata": {},
   "outputs": [],
   "source": [
    "import tkinter\n",
    "\n",
    "raiz = tkinter.Tk()\n",
    "raiz.title(\"MiPrograma\")\n",
    "\n",
    "#creamos componentes\n",
    "texto = \"Hola mundo!!\"\n",
    "etiqueta = tkinter.Label(raiz, text=texto)\n",
    "etiqueta.config(fg=\"green\", bg=\"lightgrey\", font=(\"Cortana,30\"))\n",
    "etiqueta.pack()\n",
    "\n",
    "raiz.mainloop()"
   ]
  },
  {
   "cell_type": "code",
   "execution_count": 11,
   "metadata": {},
   "outputs": [],
   "source": [
    "#componente entry"
   ]
  },
  {
   "cell_type": "code",
   "execution_count": 13,
   "metadata": {},
   "outputs": [],
   "source": [
    "import tkinter\n",
    "\n",
    "raiz = tkinter.Tk()\n",
    "raiz.title(\"MiPrograma\")\n",
    "\n",
    "#creamos componentes\n",
    "entrada = tkinter.Entry(raiz)\n",
    "entrada.config(justify=\"center\", show=\"*\") #Show es opcional\n",
    "entrada.pack()\n",
    "\n",
    "raiz.mainloop()"
   ]
  },
  {
   "cell_type": "code",
   "execution_count": 14,
   "metadata": {},
   "outputs": [],
   "source": [
    "#componente text"
   ]
  },
  {
   "cell_type": "code",
   "execution_count": 20,
   "metadata": {},
   "outputs": [],
   "source": [
    "import tkinter\n",
    "\n",
    "raiz = tkinter.Tk()\n",
    "raiz.title(\"MiPrograma\")\n",
    "\n",
    "#creamos componentes\n",
    "entrada = tkinter.Text(raiz)\n",
    "entrada.config(width=20,height=10, font=(\"Verdana\",15), padx=10,pady=10,fg=\"green\", selectbackground=\"lightgrey\")\n",
    "entrada.pack()\n",
    "\n",
    "raiz.mainloop()"
   ]
  },
  {
   "cell_type": "code",
   "execution_count": 21,
   "metadata": {},
   "outputs": [],
   "source": [
    "#componente button"
   ]
  },
  {
   "cell_type": "code",
   "execution_count": 24,
   "metadata": {},
   "outputs": [
    {
     "name": "stdout",
     "output_type": "stream",
     "text": [
      "Hola mundo...\n",
      "Hola mundo...\n",
      "Hola mundo...\n"
     ]
    }
   ],
   "source": [
    "import tkinter\n",
    "\n",
    "raiz = tkinter.Tk()\n",
    "raiz.title(\"MiPrograma\")\n",
    "\n",
    "#creamos componentes\n",
    "\n",
    "#definimos la funcion accion\n",
    "def accion():\n",
    "    print(\"Hola mundo...\")\n",
    "\n",
    "boton = tkinter.Button(raiz, text=\"Ejecutar\", command=accion)\n",
    "boton.config(fg=\"green\")\n",
    "boton.pack()\n",
    "\n",
    "raiz.mainloop()"
   ]
  },
  {
   "cell_type": "code",
   "execution_count": 25,
   "metadata": {},
   "outputs": [],
   "source": [
    "#Componente radiobutton"
   ]
  },
  {
   "cell_type": "code",
   "execution_count": 32,
   "metadata": {},
   "outputs": [
    {
     "name": "stdout",
     "output_type": "stream",
     "text": [
      "La opcion seleccionada es 1\n",
      "La opcion seleccionada es 2\n",
      "La opcion seleccionada es 3\n",
      "La opcion seleccionada es 2\n",
      "La opcion seleccionada es 1\n",
      "La opcion seleccionada es 2\n"
     ]
    }
   ],
   "source": [
    "import tkinter\n",
    "\n",
    "raiz = tkinter.Tk()\n",
    "raiz.title(\"MiPrograma\")\n",
    "\n",
    "#creamos componentes\n",
    "def seleccionar():\n",
    "    print(f\"La opcion seleccionada es {opcion.get()}\")\n",
    "    \n",
    "#hay que crear la variable de las opciones con ese tipo de datos    \n",
    "opcion = tkinter.IntVar()\n",
    "radiobutton1 = tkinter.Radiobutton(raiz,text=\"Opcion 1\", variable=opcion,value=1, command=seleccionar)\n",
    "radiobutton1.pack()\n",
    "\n",
    "radiobutton2 = tkinter.Radiobutton(raiz,text=\"Opcion 2\", variable=opcion,value=2, command=seleccionar)\n",
    "radiobutton2.pack()\n",
    "\n",
    "radiobutton3 = tkinter.Radiobutton(raiz,text=\"Opcion 3\", variable=opcion,value=3, command=seleccionar)\n",
    "radiobutton3.pack()\n",
    "\n",
    "\n",
    "\n",
    "raiz.mainloop()"
   ]
  },
  {
   "cell_type": "code",
   "execution_count": 33,
   "metadata": {},
   "outputs": [],
   "source": [
    "#componente check button"
   ]
  },
  {
   "cell_type": "code",
   "execution_count": 34,
   "metadata": {},
   "outputs": [
    {
     "name": "stdout",
     "output_type": "stream",
     "text": [
      "Check Activado\n",
      "Check Desactivado\n",
      "Check Activado\n",
      "Check Desactivado\n",
      "Check Activado\n",
      "Check Desactivado\n"
     ]
    }
   ],
   "source": [
    "import tkinter\n",
    "\n",
    "raiz = tkinter.Tk()\n",
    "raiz.title(\"MiPrograma\")\n",
    "\n",
    "#creamos componentes\n",
    "def verificar():\n",
    "    valor= check1.get()\n",
    "    if valor ==1:\n",
    "        print(\"Check Activado\")\n",
    "    else:\n",
    "        print(\"Check Desactivado\")\n",
    "    \n",
    "#hay que crear la variable de las opciones con ese tipo de datos    \n",
    "check1 = tkinter.IntVar()\n",
    "\n",
    "button1 = tkinter.Checkbutton(raiz,text=\"Opcion 1\", variable=check1,onvalue=1, offvalue=0, command=verificar)\n",
    "button1.pack()\n",
    "\n",
    "\n",
    "\n",
    "\n",
    "\n",
    "raiz.mainloop()"
   ]
  },
  {
   "cell_type": "code",
   "execution_count": 35,
   "metadata": {},
   "outputs": [],
   "source": [
    "#ventanas con mensajes messagebox"
   ]
  },
  {
   "cell_type": "code",
   "execution_count": 37,
   "metadata": {},
   "outputs": [],
   "source": [
    "import tkinter\n",
    "from tkinter import messagebox\n",
    "\n",
    "raiz = tkinter.Tk()\n",
    "raiz.title(\"MiPrograma\")\n",
    "\n",
    "#creamos componentes\n",
    "def avisar():\n",
    "    tkinter.messagebox.showinfo(\"Titulo\", \"Mensaje con la informacion\")\n",
    "\n",
    "boton = tkinter.Button(raiz, text=\"Pulsar para aviso\", command=avisar)\n",
    "boton.pack()\n",
    "\n",
    "raiz.mainloop()"
   ]
  },
  {
   "cell_type": "code",
   "execution_count": 38,
   "metadata": {},
   "outputs": [],
   "source": [
    "#ventana con pregunta.. una confirmacion?¡?"
   ]
  },
  {
   "cell_type": "code",
   "execution_count": null,
   "metadata": {},
   "outputs": [],
   "source": [
    "import tkinter\n",
    "from tkinter import messagebox\n",
    "\n",
    "raiz = tkinter.Tk()\n",
    "raiz.title(\"MiPrograma\")\n",
    "\n",
    "#creamos componentes\n",
    "def preguntar():\n",
    "    resultado_pulsado = tkinter.messagebox.askquestion(\"Titulo de la preguntaa\", \"Queres borrar este fichero?\")\n",
    "    if resultado == \"yes\":\n",
    "        print(\"Si, quiero borrar el archivo\")\n",
    "    else:\n",
    "        print(\"No, no quiero borrar el archivo\")\n",
    "\n",
    "boton = tkinter.Button(raiz, text=\"Pulsar para preguntar\", command=preguntar)\n",
    "boton.pack()\n",
    "\n",
    "raiz.mainloop()"
   ]
  }
 ],
 "metadata": {
  "kernelspec": {
   "display_name": "Python 3",
   "language": "python",
   "name": "python3"
  },
  "language_info": {
   "codemirror_mode": {
    "name": "ipython",
    "version": 3
   },
   "file_extension": ".py",
   "mimetype": "text/x-python",
   "name": "python",
   "nbconvert_exporter": "python",
   "pygments_lexer": "ipython3",
   "version": "3.7.1"
  }
 },
 "nbformat": 4,
 "nbformat_minor": 2
}
