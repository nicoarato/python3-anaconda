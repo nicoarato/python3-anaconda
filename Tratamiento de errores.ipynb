{
 "cells": [
  {
   "cell_type": "code",
   "execution_count": 1,
   "metadata": {},
   "outputs": [],
   "source": [
    "#Tratamiento de errores"
   ]
  },
  {
   "cell_type": "code",
   "execution_count": 2,
   "metadata": {},
   "outputs": [],
   "source": [
    "#try... except--- else ... finally"
   ]
  },
  {
   "cell_type": "code",
   "execution_count": 3,
   "metadata": {},
   "outputs": [
    {
     "ename": "ZeroDivisionError",
     "evalue": "division by zero",
     "output_type": "error",
     "traceback": [
      "\u001b[1;31m---------------------------------------------------------------------------\u001b[0m",
      "\u001b[1;31mZeroDivisionError\u001b[0m                         Traceback (most recent call last)",
      "\u001b[1;32m<ipython-input-3-e1a0e9e30266>\u001b[0m in \u001b[0;36m<module>\u001b[1;34m\u001b[0m\n\u001b[0;32m      1\u001b[0m \u001b[0mn1\u001b[0m \u001b[1;33m=\u001b[0m \u001b[1;36m5\u001b[0m\u001b[1;33m\u001b[0m\u001b[1;33m\u001b[0m\u001b[0m\n\u001b[0;32m      2\u001b[0m \u001b[0mn2\u001b[0m  \u001b[1;33m=\u001b[0m \u001b[1;36m0\u001b[0m\u001b[1;33m\u001b[0m\u001b[1;33m\u001b[0m\u001b[0m\n\u001b[1;32m----> 3\u001b[1;33m \u001b[0mdivision\u001b[0m \u001b[1;33m=\u001b[0m \u001b[0mn1\u001b[0m \u001b[1;33m/\u001b[0m \u001b[0mn2\u001b[0m\u001b[1;33m\u001b[0m\u001b[1;33m\u001b[0m\u001b[0m\n\u001b[0m",
      "\u001b[1;31mZeroDivisionError\u001b[0m: division by zero"
     ]
    }
   ],
   "source": [
    "n1 = 5\n",
    "n2  = 0\n",
    "division = n1 / n2\n"
   ]
  },
  {
   "cell_type": "code",
   "execution_count": 7,
   "metadata": {},
   "outputs": [
    {
     "name": "stdout",
     "output_type": "stream",
     "text": [
      "Hubo un error\n"
     ]
    }
   ],
   "source": [
    "try:\n",
    "    n1 = 5\n",
    "    n2  = 0\n",
    "    division = n1 / n2\n",
    "    print(division)\n",
    "except:\n",
    "    print(\"Hubo un error\")"
   ]
  },
  {
   "cell_type": "code",
   "execution_count": 8,
   "metadata": {},
   "outputs": [],
   "source": [
    "#ZeroDivisionError"
   ]
  },
  {
   "cell_type": "code",
   "execution_count": 12,
   "metadata": {},
   "outputs": [
    {
     "name": "stdout",
     "output_type": "stream",
     "text": [
      "Hubo un error\n"
     ]
    }
   ],
   "source": [
    "try:\n",
    "    n1 = 5\n",
    "    n2  = a\n",
    "    division = n1 / n2\n",
    "    print(division)\n",
    "except ZeroDivisionError:\n",
    "    print(\"Hubo division por cero\")\n",
    "except:\n",
    "    print(\"Hubo un error\")\n",
    "else:\n",
    "    print(\"division correcta...\")"
   ]
  },
  {
   "cell_type": "code",
   "execution_count": 13,
   "metadata": {},
   "outputs": [],
   "source": [
    "#finally"
   ]
  },
  {
   "cell_type": "code",
   "execution_count": 27,
   "metadata": {},
   "outputs": [
    {
     "name": "stdout",
     "output_type": "stream",
     "text": [
      "---Hubo division por cero\n",
      "despues de la division por cero---\n",
      "---Esta porcion de codigo se ejecuta siempre...\n",
      "Es para ver si se pueden poner varias funciones---\n"
     ]
    }
   ],
   "source": [
    "try:\n",
    "    n1 = 5\n",
    "    n2  = 0\n",
    "    division = n1 / n2\n",
    "    print(division)\n",
    "except ZeroDivisionError:\n",
    "    print(\"---Hubo division por cero\")\n",
    "    print(\"despues de la division por cero---\")\n",
    "except:\n",
    "    print(\"---Hubo un error\")\n",
    "    print(\"Esto si se ejecuta cuando hay un error ---\")\n",
    "else:\n",
    "    print(\"division correcta...\")\n",
    "    print(\"Esto no se ejecuta cuando esta en el else...................\")\n",
    "finally:\n",
    "    print(\"---Esta porcion de codigo se ejecuta siempre...\")\n",
    "    print(\"Es para ver si se pueden poner varias funciones---\")"
   ]
  },
  {
   "cell_type": "code",
   "execution_count": null,
   "metadata": {},
   "outputs": [],
   "source": []
  }
 ],
 "metadata": {
  "kernelspec": {
   "display_name": "Python 3",
   "language": "python",
   "name": "python3"
  },
  "language_info": {
   "codemirror_mode": {
    "name": "ipython",
    "version": 3
   },
   "file_extension": ".py",
   "mimetype": "text/x-python",
   "name": "python",
   "nbconvert_exporter": "python",
   "pygments_lexer": "ipython3",
   "version": "3.7.1"
  }
 },
 "nbformat": 4,
 "nbformat_minor": 2
}
