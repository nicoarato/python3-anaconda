{
 "cells": [
  {
   "cell_type": "code",
   "execution_count": 3,
   "metadata": {},
   "outputs": [],
   "source": [
    "#crear bdatos"
   ]
  },
  {
   "cell_type": "code",
   "execution_count": 2,
   "metadata": {},
   "outputs": [],
   "source": [
    "import sqlite3\n",
    "\n",
    "conexion = sqlite3.connect(\"bdatos1.db\")\n",
    "\n",
    "conexion.close()"
   ]
  },
  {
   "cell_type": "code",
   "execution_count": 4,
   "metadata": {},
   "outputs": [],
   "source": [
    "#crear tablas"
   ]
  },
  {
   "cell_type": "code",
   "execution_count": 5,
   "metadata": {},
   "outputs": [],
   "source": [
    "conexion = sqlite3.connect(\"bdatos1.db\")\n",
    "\n",
    "cursor = conexion.cursor() #para poder ejecutar sql en la bdatos\n",
    "\n",
    "cursor.execute(\"CREATE TABLE Personas (nombre TEXT, apellido TEXT, edad INTEGER)\")\n",
    "\n",
    "conexion.commit()\n",
    "\n",
    "conexion.close()"
   ]
  },
  {
   "cell_type": "code",
   "execution_count": 6,
   "metadata": {},
   "outputs": [],
   "source": [
    "#insertar datos"
   ]
  },
  {
   "cell_type": "code",
   "execution_count": 8,
   "metadata": {},
   "outputs": [],
   "source": [
    "conexion = sqlite3.connect(\"bdatos1.db\")\n",
    "\n",
    "cursor = conexion.cursor() #para poder ejecutar sql en la bdatos\n",
    "\n",
    "cursor.execute(\"INSERT INTO Personas values('Carlos', 'Perez', 40)\")\n",
    "\n",
    "conexion.commit()\n",
    "\n",
    "conexion.close()"
   ]
  },
  {
   "cell_type": "code",
   "execution_count": 9,
   "metadata": {},
   "outputs": [],
   "source": [
    "#insertar varios datos"
   ]
  },
  {
   "cell_type": "code",
   "execution_count": 10,
   "metadata": {},
   "outputs": [],
   "source": [
    "conexion = sqlite3.connect(\"bdatos1.db\")\n",
    "\n",
    "cursor = conexion.cursor() #para poder ejecutar sql en la bdatos\n",
    "\n",
    "lista = [('Cesar', 'Pipi', 44), ('Maria', 'Castaña', 30), ('Pedro', 'vives', 20), ('Leonardo', 'Polera', 31)]\n",
    "\n",
    "cursor.executemany(\"INSERT INTO Personas values(?,?,?)\", lista)\n",
    "\n",
    "conexion.commit()\n",
    "\n",
    "conexion.close()"
   ]
  },
  {
   "cell_type": "code",
   "execution_count": 11,
   "metadata": {},
   "outputs": [],
   "source": [
    "#consultar  datos"
   ]
  },
  {
   "cell_type": "code",
   "execution_count": 12,
   "metadata": {},
   "outputs": [
    {
     "name": "stdout",
     "output_type": "stream",
     "text": [
      "('Carlos', 'Perez', 40)\n",
      "('Cesar', 'Pipi', 44)\n",
      "('Maria', 'Castaña', 30)\n",
      "('Pedro', 'vives', 20)\n",
      "('Leonardo', 'Polera', 31)\n"
     ]
    }
   ],
   "source": [
    "conexion = sqlite3.connect(\"bdatos1.db\")\n",
    "\n",
    "cursor = conexion.cursor() #para poder ejecutar sql en la bdatos\n",
    "\n",
    "cursor.execute(\"SELECT * FROM Personas\")\n",
    "\n",
    "personas = cursor.fetchall()\n",
    "\n",
    "for persona in personas:\n",
    "    print(persona)\n",
    "\n",
    "conexion.close()"
   ]
  },
  {
   "cell_type": "code",
   "execution_count": 13,
   "metadata": {},
   "outputs": [],
   "source": [
    "#consular con where"
   ]
  },
  {
   "cell_type": "code",
   "execution_count": 16,
   "metadata": {},
   "outputs": [
    {
     "name": "stdout",
     "output_type": "stream",
     "text": [
      "('Carlos', 'Perez', 40)\n"
     ]
    }
   ],
   "source": [
    "conexion = sqlite3.connect(\"bdatos1.db\")\n",
    "\n",
    "cursor = conexion.cursor() #para poder ejecutar sql en la bdatos\n",
    "\n",
    "cursor.execute(\"SELECT * FROM Personas WHERE apellido='Perez' AND edad > 39\")\n",
    "\n",
    "personas = cursor.fetchall()\n",
    "\n",
    "for persona in personas:\n",
    "    print(persona)\n",
    "\n",
    "conexion.close()"
   ]
  },
  {
   "cell_type": "code",
   "execution_count": 17,
   "metadata": {},
   "outputs": [],
   "source": [
    "#ordenando"
   ]
  },
  {
   "cell_type": "code",
   "execution_count": 29,
   "metadata": {},
   "outputs": [
    {
     "name": "stdout",
     "output_type": "stream",
     "text": [
      "('Leonardo', 'Polera', 31)\n",
      "('Carlos', 'Perez', 40)\n",
      "('Cesar', 'Pipi', 44)\n"
     ]
    }
   ],
   "source": [
    "conexion = sqlite3.connect(\"bdatos1.db\")\n",
    "\n",
    "cursor = conexion.cursor() #para poder ejecutar sql en la bdatos\n",
    "\n",
    "cursor.execute(\"SELECT * FROM Personas WHERE edad > 30 ORDER BY edad\")\n",
    "\n",
    "personas = cursor.fetchall()\n",
    "\n",
    "for persona in personas:\n",
    "    print(persona)\n",
    "conexion.close()"
   ]
  },
  {
   "cell_type": "code",
   "execution_count": 28,
   "metadata": {},
   "outputs": [],
   "source": [
    "#borrar datos"
   ]
  },
  {
   "cell_type": "code",
   "execution_count": 30,
   "metadata": {},
   "outputs": [
    {
     "name": "stdout",
     "output_type": "stream",
     "text": [
      "('Carlos', 'Perez', 40)\n",
      "('Cesar', 'Pipi', 44)\n",
      "('Maria', 'Castaña', 30)\n",
      "('Pedro', 'vives', 20)\n"
     ]
    }
   ],
   "source": [
    "conexion = sqlite3.connect(\"bdatos1.db\")\n",
    "\n",
    "cursor = conexion.cursor() #para poder ejecutar sql en la bdatos\n",
    "\n",
    "cursor.execute(\"DELETE FROM Personas WHERE nombre='Leonardo'\")\n",
    "\n",
    "conexion.commit()\n",
    "\n",
    "cursor.execute(\"SELECT * FROM Personas \")\n",
    "\n",
    "personas = cursor.fetchall()\n",
    "\n",
    "conexion.close()\n",
    "\n",
    "for persona in personas:\n",
    "    print(persona)"
   ]
  },
  {
   "cell_type": "code",
   "execution_count": 31,
   "metadata": {},
   "outputs": [],
   "source": [
    "#Actualizar datos"
   ]
  },
  {
   "cell_type": "code",
   "execution_count": null,
   "metadata": {},
   "outputs": [],
   "source": [
    "conexion = sqlite3.connect(\"bdatos1.db\")\n",
    "\n",
    "cursor = conexion.cursor() #para poder ejecutar sql en la bdatos\n",
    "\n",
    "cursor.execute(\"UPDATE INTO Personas WHERE nombre='Pedro'\")\n",
    "\n",
    "conexion.commit()\n",
    "\n",
    "cursor.execute(\"SELECT * FROM Personas \")\n",
    "\n",
    "personas = cursor.fetchall()\n",
    "\n",
    "conexion.close()\n",
    "\n",
    "for persona in personas:\n",
    "    print(persona)"
   ]
  }
 ],
 "metadata": {
  "kernelspec": {
   "display_name": "Python 3",
   "language": "python",
   "name": "python3"
  },
  "language_info": {
   "codemirror_mode": {
    "name": "ipython",
    "version": 3
   },
   "file_extension": ".py",
   "mimetype": "text/x-python",
   "name": "python",
   "nbconvert_exporter": "python",
   "pygments_lexer": "ipython3",
   "version": "3.7.1"
  }
 },
 "nbformat": 4,
 "nbformat_minor": 2
}
